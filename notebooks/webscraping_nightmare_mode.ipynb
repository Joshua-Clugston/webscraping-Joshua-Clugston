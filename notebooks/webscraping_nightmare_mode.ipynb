{
 "cells": [
  {
   "cell_type": "code",
   "execution_count": null,
   "id": "fd3f581c",
   "metadata": {},
   "outputs": [],
   "source": [
    "import requests\n",
    "from bs4 import BeautifulSoup as BS\n",
    "import re\n",
    "import pandas as pd\n",
    "from time import sleep # this is to create a time delay"
   ]
  },
  {
   "cell_type": "markdown",
   "id": "b9e3c75c",
   "metadata": {},
   "source": [
    "# 1. Start by using either the inspector or by viewing the page source. Can you identify a tag that might be helpful for finding the names of all performers? For now, just worry about the headliner and don't worry about the opener. (Eg. For Vince Gill, featuring Wendy Moten, we only care about Vince Gill.) Make use of this to create a list containing just the names of each inductee."
   ]
  },
  {
   "cell_type": "code",
   "execution_count": null,
   "id": "eb163b63",
   "metadata": {},
   "outputs": [],
   "source": [
    "url = 'https://www.ryman.com/events/'\n",
    "response = requests.get(url)\n",
    "response"
   ]
  },
  {
   "cell_type": "code",
   "execution_count": null,
   "id": "9ccf88a6",
   "metadata": {},
   "outputs": [],
   "source": [
    "soup = BS(response.text)"
   ]
  },
  {
   "cell_type": "code",
   "execution_count": null,
   "id": "33f9beb7",
   "metadata": {},
   "outputs": [],
   "source": [
    "divs = soup.findAll('div', {'class':'info'})\n",
    "\n",
    "#divs"
   ]
  },
  {
   "cell_type": "code",
   "execution_count": null,
   "id": "becec379",
   "metadata": {
    "scrolled": false
   },
   "outputs": [],
   "source": [
    "performers = []\n",
    "\n",
    "for div in divs:\n",
    "    try:\n",
    "        performer = div.find('h3').text.strip()\n",
    "        if performer != '':\n",
    "            performers.append(performer)\n",
    "            print(performer)\n",
    "    except:\n",
    "        continue"
   ]
  },
  {
   "cell_type": "code",
   "execution_count": null,
   "id": "ebcf7623",
   "metadata": {},
   "outputs": [],
   "source": [
    "performers"
   ]
  },
  {
   "cell_type": "code",
   "execution_count": null,
   "id": "a1b91fc1",
   "metadata": {},
   "outputs": [],
   "source": [
    "divs[8].findAll('h3')"
   ]
  },
  {
   "cell_type": "code",
   "execution_count": null,
   "id": "b8ac3bc2",
   "metadata": {},
   "outputs": [],
   "source": [
    "divs[8].find('h3').text.strip()"
   ]
  },
  {
   "cell_type": "markdown",
   "id": "cb84e73a",
   "metadata": {},
   "source": [
    "# 2. Next, try and find a tag that could be used to find the date and time for each show. Extract these into a list. Challenge: Convert these into two lists, one containing the date and the other containing the time. (Eg. split Mar 9, 2023 8:00 PM into Mar 9, 2023 and 8:00 PM.)"
   ]
  },
  {
   "cell_type": "code",
   "execution_count": null,
   "id": "400fc0c2",
   "metadata": {
    "scrolled": true
   },
   "outputs": [],
   "source": [
    "date_divs = soup.findAll('div', {'class':'date'})\n",
    "#date_divs"
   ]
  },
  {
   "cell_type": "code",
   "execution_count": null,
   "id": "0b68d174",
   "metadata": {},
   "outputs": [],
   "source": [
    "len(date_divs)"
   ]
  },
  {
   "cell_type": "code",
   "execution_count": null,
   "id": "1a21c0f4",
   "metadata": {},
   "outputs": [],
   "source": [
    "dates = []\n",
    "times = []\n",
    "\n",
    "for div in date_divs:\n",
    "    try:\n",
    "        month = div.find('span', {'class':'m-date__month'}).text.strip()\n",
    "        days  = div.findAll('span', {'class':'m-date__day'})#.text.strip()\n",
    "        year  = div.find('span', {'class':'m-date__year'}).text.strip()\n",
    "        time = ''\n",
    "        \n",
    "        if len(days) != 1:\n",
    "            day = ''\n",
    "            for d in days:\n",
    "                day = day + ' ' + d.text\n",
    "            day = day.strip().replace(' ', '-')\n",
    "            \n",
    "            time = 'Multiple times'\n",
    "            \n",
    "        else:\n",
    "            day = days[0].text.strip()\n",
    "            time  = div.find('span', {'class':'m-date__hour'}).text.strip()\n",
    "        #end\n",
    "        date = month+' '+day+year\n",
    "        \n",
    "        times.append(time)\n",
    "        dates.append(date)     \n",
    "        \n",
    "        print(date, time)\n",
    "    except:\n",
    "        continue"
   ]
  },
  {
   "cell_type": "code",
   "execution_count": null,
   "id": "aaff52ef",
   "metadata": {},
   "outputs": [],
   "source": [
    "dates"
   ]
  },
  {
   "cell_type": "code",
   "execution_count": null,
   "id": "df039461",
   "metadata": {},
   "outputs": [],
   "source": [
    "times"
   ]
  },
  {
   "cell_type": "markdown",
   "id": "3216f892",
   "metadata": {},
   "source": [
    "# 3. Take the lists you created on parts 1 and 2 and convert them into a pandas DataFrame."
   ]
  },
  {
   "cell_type": "code",
   "execution_count": null,
   "id": "939ea266",
   "metadata": {},
   "outputs": [],
   "source": [
    "ryman_df = pd.DataFrame(performers)\n",
    "ryman_df.columns = ['Performers']\n",
    "ryman_df"
   ]
  },
  {
   "cell_type": "code",
   "execution_count": null,
   "id": "2c47210f",
   "metadata": {},
   "outputs": [],
   "source": [
    "ryman_df['Date'] = dates\n",
    "ryman_df['Time'] = times\n",
    "ryman_df"
   ]
  },
  {
   "cell_type": "markdown",
   "id": "ba88db0d",
   "metadata": {},
   "source": [
    "# 4. Bonus #1: Add to your data frame the opening act for all shows that list an opener."
   ]
  },
  {
   "cell_type": "code",
   "execution_count": null,
   "id": "e3ef6c77",
   "metadata": {
    "scrolled": true
   },
   "outputs": [],
   "source": [
    "event_divs = soup.findAll('div', {'class':'eventItem'})\n",
    "event_divs.remove(event_divs[0])\n",
    "#event_divs"
   ]
  },
  {
   "cell_type": "code",
   "execution_count": null,
   "id": "0894e782",
   "metadata": {},
   "outputs": [],
   "source": [
    "event_divs[5].h4.text.strip()"
   ]
  },
  {
   "cell_type": "code",
   "execution_count": null,
   "id": "84668295",
   "metadata": {},
   "outputs": [],
   "source": [
    "openers = []\n",
    "\n",
    "for div in event_divs:\n",
    "    try:\n",
    "        opener = div.h4.text.strip()\n",
    "        openers.append(opener)\n",
    "    except:\n",
    "        openers.append('')\n",
    "openers"
   ]
  },
  {
   "cell_type": "code",
   "execution_count": null,
   "id": "d9e6b32b",
   "metadata": {},
   "outputs": [],
   "source": [
    "ryman_df['Openers and Info'] = openers\n",
    "ryman_df"
   ]
  },
  {
   "cell_type": "markdown",
   "id": "043e5c30",
   "metadata": {},
   "source": [
    "# 5. Bonus #2:: Now, let's see if we can get the results beyond the first page. For this, you'll need to Web Developer Tools of your browser and navigate to the Network tab. Click the \"Load More Events\" button and you should see a GET request to the www.ryman.com domain.\n",
    "## a. Inspect this request and you should see that it goes to a URL like \"https://www.ryman.com/events/events_ajax/24?category=0&venue=0&team=0&exclude=&per_page=12&came_from_page=event-list-page\". In your Jupyter notebook, send a get request to this url and inspect the results."
   ]
  },
  {
   "cell_type": "code",
   "execution_count": null,
   "id": "2f7021ee",
   "metadata": {},
   "outputs": [],
   "source": [
    "url = 'https://www.ryman.com/events/events_ajax/24?category=0&venue=0&team=0&exclude=&per_page=12&came_from_page=event-list-page'\n",
    "response = requests.get(url)\n",
    "response"
   ]
  },
  {
   "cell_type": "code",
   "execution_count": null,
   "id": "1204c7e6",
   "metadata": {
    "scrolled": true
   },
   "outputs": [],
   "source": [
    "soup = BS(response.text)\n",
    "#soup"
   ]
  },
  {
   "cell_type": "markdown",
   "id": "2c3bf8df",
   "metadata": {},
   "source": [
    "## b. You should find that the results that you get are HTML, but that they are not exactly formatted in a way that can be parsed. See if you can clean up the results set so that you can extract out the same information as above"
   ]
  },
  {
   "cell_type": "code",
   "execution_count": null,
   "id": "d25d7816",
   "metadata": {},
   "outputs": [],
   "source": [
    "text = response.text.replace('\\\\n','').replace('\\\\t','').replace('\\\\','').replace('\\<\\>','\\< \\>')\n",
    "#text"
   ]
  },
  {
   "cell_type": "code",
   "execution_count": null,
   "id": "b7192c3a",
   "metadata": {},
   "outputs": [],
   "source": [
    "soup = BS(text)\n",
    "print(soup.prettify)"
   ]
  },
  {
   "cell_type": "code",
   "execution_count": null,
   "id": "9af82167",
   "metadata": {},
   "outputs": [],
   "source": [
    "info = soup.findAll('div')\n",
    "info"
   ]
  },
  {
   "cell_type": "code",
   "execution_count": null,
   "id": "641c950b",
   "metadata": {},
   "outputs": [],
   "source": [
    "len(info)"
   ]
  },
  {
   "cell_type": "code",
   "execution_count": null,
   "id": "ae6cbf87",
   "metadata": {
    "scrolled": true
   },
   "outputs": [],
   "source": [
    "performers = []\n",
    "openers = []\n",
    "dates = []\n",
    "times = []\n",
    "i = 0\n",
    "\n",
    "for line in info:\n",
    "    if i%7 == 2:\n",
    "        performer = line.text.strip()\n",
    "        try:\n",
    "            text = performer.split('Auditorium')[1]\n",
    "            text = text[:-20]\n",
    "            #print('Text (1st try) is:',text)\n",
    "            performer = text.split('       ')[0].strip()\n",
    "            print(performer)\n",
    "            \n",
    "            try:\n",
    "                opener = text.split('       ')[1].strip()\n",
    "                print('Opener is:',opener)\n",
    "                openers.append(opener)\n",
    "            except:\n",
    "                opener = ''\n",
    "                print('No opener')\n",
    "                openers.append(opener)\n",
    "            #end\n",
    "            \n",
    "        except:\n",
    "            try:\n",
    "                text = performer.split('Opry House')[1]\n",
    "                text = text[:-20]\n",
    "                #print('Text (2nd try) is:',text)\n",
    "                performer = text.split('       ')[0].strip()\n",
    "                print(performer)\n",
    "                \n",
    "                try:\n",
    "                    opener = text.split('       ')[1].strip()\n",
    "                    print('Opener is:',opener)\n",
    "                    openers.append(opener)\n",
    "                except:\n",
    "                    opener = ''\n",
    "                    print('No opener')\n",
    "                    openers.append(opener)\n",
    "                #end\n",
    "    \n",
    "            except:\n",
    "                print('EXCEPTION')\n",
    "            #end\n",
    "        #end\n",
    "        performers.append(performer)\n",
    "        \n",
    "    \n",
    "    if i%7 == 3:\n",
    "        datetime = line.text\n",
    "        pattern = re.compile('\\d+:\\d0\\s.M')\n",
    "        \n",
    "        try:\n",
    "            time = pattern.search(datetime).group(0).strip()\n",
    "            date = datetime.split(time)[0].strip()\n",
    "        except:\n",
    "            time = 'Multiple times'\n",
    "            date = datetime.strip()\n",
    "        \n",
    "        \n",
    "        dates.append(date)\n",
    "        times.append(time)\n",
    "        print(date)\n",
    "        print(time,'\\n')\n",
    "        \n",
    "    \n",
    "    i += 1\n"
   ]
  },
  {
   "cell_type": "code",
   "execution_count": null,
   "id": "e0816876",
   "metadata": {
    "scrolled": true
   },
   "outputs": [],
   "source": [
    "openers"
   ]
  },
  {
   "cell_type": "code",
   "execution_count": null,
   "id": "1e05706b",
   "metadata": {},
   "outputs": [],
   "source": [
    "dates"
   ]
  },
  {
   "cell_type": "code",
   "execution_count": null,
   "id": "e1827745",
   "metadata": {},
   "outputs": [],
   "source": [
    "times"
   ]
  },
  {
   "cell_type": "code",
   "execution_count": null,
   "id": "f6db4a43",
   "metadata": {},
   "outputs": [],
   "source": [
    "ryman_df2 = pd.DataFrame({'Performers':performers, 'Date':dates, 'Time':times, 'Opener and Info':openers})\n",
    "ryman_df2"
   ]
  },
  {
   "cell_type": "markdown",
   "id": "9640b384",
   "metadata": {},
   "source": [
    "## c. Create a DataFrame that contains data for the next 60 shows."
   ]
  },
  {
   "cell_type": "code",
   "execution_count": null,
   "id": "34772804",
   "metadata": {},
   "outputs": [],
   "source": [
    "def get_ryman(url):\n",
    "    response = requests.get(url)\n",
    "    soup = BS(response.text)\n",
    "            \n",
    "            \n",
    "    performers = []\n",
    "    dates = []\n",
    "    times = []\n",
    "    openers = []\n",
    "            \n",
    "\n",
    "    divs = soup.findAll('div', {'class':'info'})\n",
    "            \n",
    "            \n",
    "    ### Find performers\n",
    "            \n",
    "    for div in divs:\n",
    "        try:\n",
    "            performer = div.find('h3').text.strip()\n",
    "            if performer != '':\n",
    "                performers.append(performer)\n",
    "        except:\n",
    "            continue\n",
    "    #end\n",
    "            \n",
    "    ### Find time componeents\n",
    "            \n",
    "    date_divs = soup.findAll('div', {'class':'date'})\n",
    "\n",
    "    for div in date_divs:\n",
    "        try:\n",
    "            month = div.find('span', {'class':'m-date__month'}).text.strip()\n",
    "            days  = div.findAll('span', {'class':'m-date__day'})#.text.strip()\n",
    "            year  = div.find('span', {'class':'m-date__year'}).text.strip()\n",
    "            time = ''\n",
    "\n",
    "            if len(days) != 1:\n",
    "                day = ''\n",
    "                for d in days:\n",
    "                    day = day + ' ' + d.text\n",
    "                day = day.strip().replace(' ', '-')\n",
    "\n",
    "                time = 'Multiple times'\n",
    "\n",
    "            else:\n",
    "                day = days[0].text.strip()\n",
    "                time  = div.find('span', {'class':'m-date__hour'}).text.strip()\n",
    "            #end\n",
    "            date = month+' '+day+year\n",
    "\n",
    "            times.append(time)\n",
    "            dates.append(date)     \n",
    "                    \n",
    "        except:\n",
    "            continue\n",
    "    #end\n",
    "            \n",
    "    event_divs = soup.findAll('div', {'class':'eventItem'})\n",
    "    event_divs.remove(event_divs[0])\n",
    "            \n",
    "    ### Find openers\n",
    "            \n",
    "    for div in event_divs:\n",
    "        try:\n",
    "            opener = div.h4.text.strip()\n",
    "            openers.append(opener)\n",
    "        except:\n",
    "            openers.append('')\n",
    "    #end\n",
    "            \n",
    "    \n",
    "    ### We now will \"load\" more events\n",
    "    \n",
    "    for i in range(2,7):\n",
    "        url = f'https://www.ryman.com/events/events_ajax/{i*12}?category=0&venue=0&team=0&exclude=&per_page=12&came_from_page=event-list-page'\n",
    "        \n",
    "        response = requests.get(url)\n",
    "        text = response.text.replace('\\\\n','').replace('\\\\t','').replace('\\\\','').replace('\\<\\>','\\< \\>')\n",
    "        soup = BS(text)\n",
    "        \n",
    "        info = soup.findAll('div')\n",
    "    \n",
    "        j = 0\n",
    "\n",
    "        for line in info:\n",
    "            \n",
    "            ### Get performer and opener of the new events\n",
    "            \n",
    "            if j%7 == 2:\n",
    "                performer = line.text.strip()\n",
    "                try:\n",
    "                    text = performer.split('Auditorium')[1]\n",
    "                    text = text[:-20]\n",
    "                    performer = text.split('       ')[0].strip()\n",
    "\n",
    "                    try:\n",
    "                        opener = text.split('       ')[1].strip()\n",
    "                        openers.append(opener)\n",
    "                    except:\n",
    "                        opener = ''\n",
    "                        openers.append(opener)\n",
    "                    #end\n",
    "\n",
    "                except:\n",
    "                    try:\n",
    "                        text = performer.split('Opry House')[1]\n",
    "                        text = text[:-20]\n",
    "                        performer = text.split('       ')[0].strip()\n",
    "\n",
    "                        try:\n",
    "                            opener = text.split('       ')[1].strip()\n",
    "                            openers.append(opener)\n",
    "                        except:\n",
    "                            opener = ''\n",
    "                            openers.append(opener)\n",
    "                        #end\n",
    "\n",
    "                    except:\n",
    "                        print('EXCEPTION')\n",
    "                    #end\n",
    "                #end\n",
    "                performers.append(performer)\n",
    "\n",
    "            ### Get time components of new events\n",
    "            \n",
    "            if j%7 == 3:\n",
    "                datetime = line.text\n",
    "                pattern = re.compile('\\d+:\\d0\\s.M')\n",
    "\n",
    "                try:\n",
    "                    time = pattern.search(datetime).group(0).strip()\n",
    "                    date = datetime.split(time)[0].strip()\n",
    "                except:\n",
    "                    time = 'Multiple times'\n",
    "                    date = datetime.strip()\n",
    "\n",
    "\n",
    "                dates.append(date)\n",
    "                times.append(time)\n",
    "\n",
    "\n",
    "            j += 1\n",
    "        #end\n",
    "    \n",
    "    ryman_df = pd.DataFrame({'Performer':performers, 'Date':dates, 'Time': times, 'Opener and Info':openers})\n",
    "    \n",
    "    return ryman_df"
   ]
  },
  {
   "cell_type": "code",
   "execution_count": null,
   "id": "5ac484fa",
   "metadata": {
    "scrolled": false
   },
   "outputs": [],
   "source": [
    "get_ryman('https://www.ryman.com/events/')"
   ]
  },
  {
   "cell_type": "markdown",
   "id": "227729ef",
   "metadata": {},
   "source": [
    "## So close! When I ran it the first time, I got 60 rows, so there's something there!"
   ]
  },
  {
   "cell_type": "code",
   "execution_count": null,
   "id": "501c1c88",
   "metadata": {},
   "outputs": [],
   "source": []
  }
 ],
 "metadata": {
  "kernelspec": {
   "display_name": "Python 3 (ipykernel)",
   "language": "python",
   "name": "python3"
  },
  "language_info": {
   "codemirror_mode": {
    "name": "ipython",
    "version": 3
   },
   "file_extension": ".py",
   "mimetype": "text/x-python",
   "name": "python",
   "nbconvert_exporter": "python",
   "pygments_lexer": "ipython3",
   "version": "3.11.4"
  }
 },
 "nbformat": 4,
 "nbformat_minor": 5
}
