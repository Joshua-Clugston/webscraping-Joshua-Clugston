{
 "cells": [
  {
   "cell_type": "code",
   "execution_count": null,
   "id": "98a775f6",
   "metadata": {},
   "outputs": [],
   "source": [
    "import requests\n",
    "from bs4 import BeautifulSoup as BS\n",
    "import re\n",
    "import pandas as pd\n",
    "from time import sleep # this is to create a time delay"
   ]
  },
  {
   "cell_type": "markdown",
   "id": "7ebf62af",
   "metadata": {},
   "source": [
    "# 1. Start by using either the inspector or by viewing the page source. Can you identify a tag that might be helpful for finding the names of all performers? For now, just worry about the headliner and don't worry about the opener. (Eg. For Vince Gill, featuring Wendy Moten, we only care about Vince Gill.) Make use of this to create a list containing just the names of each inductee."
   ]
  },
  {
   "cell_type": "code",
   "execution_count": null,
   "id": "fb4859f5",
   "metadata": {},
   "outputs": [],
   "source": [
    "url = 'https://www.ryman.com/events/'\n",
    "response = requests.get(url)\n",
    "response"
   ]
  },
  {
   "cell_type": "code",
   "execution_count": null,
   "id": "443985ce",
   "metadata": {},
   "outputs": [],
   "source": [
    "soup = BS(response.text)"
   ]
  },
  {
   "cell_type": "code",
   "execution_count": null,
   "id": "6f8a603c",
   "metadata": {},
   "outputs": [],
   "source": [
    "divs = soup.findAll('div', {'class':'info'})\n",
    "\n",
    "divs"
   ]
  },
  {
   "cell_type": "code",
   "execution_count": null,
   "id": "73df8207",
   "metadata": {
    "scrolled": false
   },
   "outputs": [],
   "source": [
    "performers = []\n",
    "\n",
    "for div in divs:\n",
    "    try:\n",
    "        performer = div.find('h3').text.strip()\n",
    "        if performer != '':\n",
    "            performers.append(performer)\n",
    "            print(performer)\n",
    "    except:\n",
    "        continue"
   ]
  },
  {
   "cell_type": "code",
   "execution_count": null,
   "id": "9778a1f9",
   "metadata": {},
   "outputs": [],
   "source": [
    "performers"
   ]
  },
  {
   "cell_type": "code",
   "execution_count": null,
   "id": "300a7372",
   "metadata": {},
   "outputs": [],
   "source": [
    "divs[8].findAll('h3')"
   ]
  },
  {
   "cell_type": "code",
   "execution_count": null,
   "id": "04daa99b",
   "metadata": {},
   "outputs": [],
   "source": [
    "divs[8].find('h3').text.strip()"
   ]
  },
  {
   "cell_type": "markdown",
   "id": "ed9a0362",
   "metadata": {},
   "source": [
    "# 2. Next, try and find a tag that could be used to find the date and time for each show. Extract these into a list. Challenge: Convert these into two lists, one containing the date and the other containing the time. (Eg. split Mar 9, 2023 8:00 PM into Mar 9, 2023 and 8:00 PM.)"
   ]
  },
  {
   "cell_type": "code",
   "execution_count": null,
   "id": "d6ea6b49",
   "metadata": {
    "scrolled": true
   },
   "outputs": [],
   "source": [
    "date_divs = soup.findAll('div', {'class':'date'})\n",
    "date_divs"
   ]
  },
  {
   "cell_type": "code",
   "execution_count": null,
   "id": "035ea48e",
   "metadata": {},
   "outputs": [],
   "source": [
    "len(date_divs)"
   ]
  },
  {
   "cell_type": "code",
   "execution_count": null,
   "id": "32dff7c5",
   "metadata": {},
   "outputs": [],
   "source": [
    "dates = []\n",
    "times = []\n",
    "\n",
    "\n",
    "for div in date_divs:\n",
    "    try:\n",
    "        month = div.find('span', {'class':'m-date__month'}).text.strip()\n",
    "        days  = div.findAll('span', {'class':'m-date__day'})#.text.strip()\n",
    "        year  = div.find('span', {'class':'m-date__year'}).text.strip()\n",
    "        time = ''\n",
    "        \n",
    "        if len(days) != 1:\n",
    "            day = ''\n",
    "            for d in days:\n",
    "                day = day + ' ' + d.text\n",
    "            day = day.strip().replace(' ', '-')\n",
    "            \n",
    "            time = 'Multiple times'\n",
    "            \n",
    "        else:\n",
    "            day = days[0].text.strip()\n",
    "            time  = div.find('span', {'class':'m-date__hour'}).text.strip()\n",
    "        #end\n",
    "        date = month+' '+day+year\n",
    "        \n",
    "        times.append(time)\n",
    "        dates.append(date)     \n",
    "        \n",
    "        print(date, time)\n",
    "    except:\n",
    "        continue"
   ]
  },
  {
   "cell_type": "code",
   "execution_count": null,
   "id": "44219d03",
   "metadata": {},
   "outputs": [],
   "source": [
    "dates"
   ]
  },
  {
   "cell_type": "code",
   "execution_count": null,
   "id": "220b4756",
   "metadata": {},
   "outputs": [],
   "source": [
    "times"
   ]
  },
  {
   "cell_type": "markdown",
   "id": "2eb899c8",
   "metadata": {},
   "source": [
    "# 3. Take the lists you created on parts 1 and 2 and convert them into a pandas DataFrame."
   ]
  },
  {
   "cell_type": "code",
   "execution_count": null,
   "id": "3e99f04d",
   "metadata": {},
   "outputs": [],
   "source": [
    "ryman_df = pd.DataFrame(performers)\n",
    "ryman_df.columns = ['Performers']\n",
    "ryman_df"
   ]
  },
  {
   "cell_type": "code",
   "execution_count": null,
   "id": "9e16f753",
   "metadata": {},
   "outputs": [],
   "source": [
    "ryman_df['Date'] = dates\n",
    "ryman_df['Time'] = times\n",
    "ryman_df"
   ]
  },
  {
   "cell_type": "markdown",
   "id": "9ea625ee",
   "metadata": {},
   "source": [
    "# 4. Bonus #1: Add to your data frame the opening act for all shows that list an opener."
   ]
  },
  {
   "cell_type": "code",
   "execution_count": null,
   "id": "2bb1aa8b",
   "metadata": {},
   "outputs": [],
   "source": []
  }
 ],
 "metadata": {
  "kernelspec": {
   "display_name": "Python 3 (ipykernel)",
   "language": "python",
   "name": "python3"
  },
  "language_info": {
   "codemirror_mode": {
    "name": "ipython",
    "version": 3
   },
   "file_extension": ".py",
   "mimetype": "text/x-python",
   "name": "python",
   "nbconvert_exporter": "python",
   "pygments_lexer": "ipython3",
   "version": "3.11.4"
  }
 },
 "nbformat": 4,
 "nbformat_minor": 5
}
