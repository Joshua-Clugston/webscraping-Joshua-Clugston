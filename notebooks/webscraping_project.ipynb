{
 "cells": [
  {
   "cell_type": "code",
   "execution_count": null,
   "id": "29c27f5d",
   "metadata": {},
   "outputs": [],
   "source": [
    "import requests\n",
    "import pandas as pd\n",
    "from bs4 import BeautifulSoup as BS"
   ]
  },
  {
   "cell_type": "markdown",
   "id": "1931326d",
   "metadata": {},
   "source": [
    "# 1. Start by performing a GET request on the url above and convert the response into a BeautifulSoup object. "
   ]
  },
  {
   "cell_type": "code",
   "execution_count": null,
   "id": "e6f246da",
   "metadata": {},
   "outputs": [],
   "source": [
    "URL = 'https://realpython.github.io/fake-jobs/'\n",
    "response = requests.get(URL)\n",
    "response"
   ]
  },
  {
   "cell_type": "code",
   "execution_count": null,
   "id": "2072cb1e",
   "metadata": {},
   "outputs": [],
   "source": [
    "soup = BS(response.text)\n",
    "soup"
   ]
  },
  {
   "cell_type": "code",
   "execution_count": null,
   "id": "5381e638",
   "metadata": {},
   "outputs": [],
   "source": [
    "html = soup.prettify()\n",
    "print(html)"
   ]
  },
  {
   "cell_type": "markdown",
   "id": "e3b4067e",
   "metadata": {},
   "source": [
    "### a. Use the .find method to find the tag containing the first job title (\"Senior Python Developer\"). Hint: can you find a tag type and/or a class that could be helpful for extracting this information? Extract the text from this title."
   ]
  },
  {
   "cell_type": "code",
   "execution_count": null,
   "id": "61eeb602",
   "metadata": {},
   "outputs": [],
   "source": [
    "soup.find('h2')"
   ]
  },
  {
   "cell_type": "code",
   "execution_count": null,
   "id": "7bd081fe",
   "metadata": {},
   "outputs": [],
   "source": [
    "soup.find('h2').text"
   ]
  },
  {
   "cell_type": "markdown",
   "id": "32385a1b",
   "metadata": {},
   "source": [
    "### b. Now, use what you did for the first title, but extract the job title for all jobs on this page. Store the results in a list."
   ]
  },
  {
   "cell_type": "code",
   "execution_count": null,
   "id": "76868bf2",
   "metadata": {
    "scrolled": true
   },
   "outputs": [],
   "source": [
    "jobs = soup.findAll('h2')"
   ]
  },
  {
   "cell_type": "code",
   "execution_count": null,
   "id": "9c89f42f",
   "metadata": {},
   "outputs": [],
   "source": [
    "job_titles = []\n",
    "for job in jobs:\n",
    "    job_titles.append(job.text)"
   ]
  },
  {
   "cell_type": "code",
   "execution_count": null,
   "id": "a7d88832",
   "metadata": {
    "scrolled": true
   },
   "outputs": [],
   "source": [
    "job_titles"
   ]
  },
  {
   "cell_type": "markdown",
   "id": "46764549",
   "metadata": {},
   "source": [
    "### c. Finally, extract the companies, locations, and posting dates for each job. For example, the first job has a company of \"Payne, Roberts and Davis\", a location of \"Stewartbury, AA\", and a posting date of \"2021-04-08\". Ensure that the text that you extract is clean, meaning no extra spaces or other characters at the beginning or end."
   ]
  },
  {
   "cell_type": "code",
   "execution_count": null,
   "id": "65101b28",
   "metadata": {},
   "outputs": [],
   "source": [
    "locations = soup.findAll('p', {'class': 'location'})\n",
    "# Answer found at: https://stackoverflow.com/questions/5041008/how-to-find-elements-by-class"
   ]
  },
  {
   "cell_type": "code",
   "execution_count": null,
   "id": "c3fc05a5",
   "metadata": {
    "scrolled": true
   },
   "outputs": [],
   "source": [
    "loc_list = []\n",
    "for loc in locations:\n",
    "    #print(loc.text.strip('\\n').strip())\n",
    "    loc_list.append(loc.text.strip('\\n').strip())"
   ]
  },
  {
   "cell_type": "code",
   "execution_count": null,
   "id": "9c52bee5",
   "metadata": {
    "scrolled": true
   },
   "outputs": [],
   "source": [
    "loc_list"
   ]
  },
  {
   "cell_type": "code",
   "execution_count": null,
   "id": "823c938e",
   "metadata": {},
   "outputs": [],
   "source": [
    "times = soup.findAll('time')\n",
    "post_dates = []"
   ]
  },
  {
   "cell_type": "code",
   "execution_count": null,
   "id": "7b086ee2",
   "metadata": {
    "scrolled": true
   },
   "outputs": [],
   "source": [
    "for time in times:\n",
    "    #print(time.text)\n",
    "    post_dates.append(time.text)"
   ]
  },
  {
   "cell_type": "code",
   "execution_count": null,
   "id": "7c1139d9",
   "metadata": {
    "scrolled": true
   },
   "outputs": [],
   "source": [
    "post_dates"
   ]
  },
  {
   "cell_type": "code",
   "execution_count": null,
   "id": "196b1717",
   "metadata": {},
   "outputs": [],
   "source": [
    "companies = soup.findAll('h3', {'class': 'subtitle'})\n",
    "comp_list = []"
   ]
  },
  {
   "cell_type": "code",
   "execution_count": null,
   "id": "1aa4fb4a",
   "metadata": {
    "scrolled": true
   },
   "outputs": [],
   "source": [
    "for comp in companies:\n",
    "    #print(comp.text)\n",
    "    comp_list.append(comp.text)"
   ]
  },
  {
   "cell_type": "code",
   "execution_count": null,
   "id": "490d0701",
   "metadata": {
    "scrolled": true
   },
   "outputs": [],
   "source": [
    "comp_list"
   ]
  },
  {
   "cell_type": "markdown",
   "id": "dfc20143",
   "metadata": {},
   "source": [
    "### d. Take the lists that you have created and combine them into a pandas DataFrame."
   ]
  },
  {
   "cell_type": "code",
   "execution_count": null,
   "id": "71ae651b",
   "metadata": {},
   "outputs": [],
   "source": [
    "jobs_df = pd.DataFrame(job_titles)\n",
    "jobs_df.columns = ['Title']\n",
    "jobs_df"
   ]
  },
  {
   "cell_type": "code",
   "execution_count": null,
   "id": "98372ed5",
   "metadata": {},
   "outputs": [],
   "source": [
    "jobs_df['Location'] = loc_list\n",
    "jobs_df['Company'] = comp_list\n",
    "jobs_df['Post_Date'] = post_dates\n",
    "jobs_df"
   ]
  },
  {
   "cell_type": "markdown",
   "id": "ce03b6ce",
   "metadata": {},
   "source": [
    "# 2. Next, add a column that contains the url for the \"Apply\" button. Try this in two ways.\n",
    "###  a. First, use the BeautifulSoup find_all method to extract the urls."
   ]
  },
  {
   "cell_type": "code",
   "execution_count": null,
   "id": "5e7010a7",
   "metadata": {},
   "outputs": [],
   "source": [
    "apply = soup.findAll('a')\n",
    "apply"
   ]
  },
  {
   "cell_type": "code",
   "execution_count": null,
   "id": "b87db388",
   "metadata": {},
   "outputs": [],
   "source": [
    "apply[1].text"
   ]
  },
  {
   "cell_type": "code",
   "execution_count": null,
   "id": "eca5f339",
   "metadata": {},
   "outputs": [],
   "source": [
    "apply[0].get('href')"
   ]
  },
  {
   "cell_type": "code",
   "execution_count": null,
   "id": "4ceb1840",
   "metadata": {
    "scrolled": true
   },
   "outputs": [],
   "source": [
    "apply_link = []\n",
    "\n",
    "for link in apply:\n",
    "    if link.text == 'Apply':\n",
    "        #print(link.get('href'))\n",
    "        apply_link.append(link.get('href').strip())"
   ]
  },
  {
   "cell_type": "code",
   "execution_count": null,
   "id": "90fd1253",
   "metadata": {
    "scrolled": true
   },
   "outputs": [],
   "source": [
    "apply_link"
   ]
  },
  {
   "cell_type": "code",
   "execution_count": null,
   "id": "bd50c400",
   "metadata": {
    "scrolled": true
   },
   "outputs": [],
   "source": [
    "jobs_df['Apply_Link'] = apply_link\n",
    "jobs_df"
   ]
  },
  {
   "cell_type": "markdown",
   "id": "3754b0ad",
   "metadata": {},
   "source": [
    "### b. Next, get those same urls in a different way. Examine the urls and see if you can spot the pattern of how they are constructed. Then, build the url using the elements you have already extracted. Ensure that the urls that you created match those that you extracted using BeautifulSoup. Warning: You will need to do some string cleaning and prep in constructing the urls this way. For example, look carefully at the urls for the \"Software Engineer (Python)\" job and the \"Scientist, research (maths)\" job."
   ]
  },
  {
   "cell_type": "code",
   "execution_count": null,
   "id": "b3d11d37",
   "metadata": {},
   "outputs": [],
   "source": [
    "import re"
   ]
  },
  {
   "cell_type": "code",
   "execution_count": null,
   "id": "8dcf8598",
   "metadata": {
    "scrolled": true
   },
   "outputs": [],
   "source": [
    "i = 0\n",
    "concat_links = []\n",
    "\n",
    "for row, data in jobs_df.iterrows():\n",
    "    #print(data['Title'],'\\n')\n",
    "    title = data['Title'].lower()\n",
    "    title = re.subn('[-,/()]', ' ', title)[0]\n",
    "    # subn round at: https://www.geeksforgeeks.org/python-replace-multiple-characters-at-once/\n",
    "    title = title.strip().replace('  ', ' ').replace(' ', '-')\n",
    "    #print(title)\n",
    "    \n",
    "    new_link = f'https://realpython.github.io/fake-jobs/jobs/{title}-{row}.html'\n",
    "    concat_links.append(new_link)\n",
    "    \n",
    "concat_links"
   ]
  },
  {
   "cell_type": "code",
   "execution_count": null,
   "id": "6e91fd99",
   "metadata": {},
   "outputs": [],
   "source": [
    "jobs_df['Apply_Link'] = concat_links\n",
    "jobs_df"
   ]
  },
  {
   "cell_type": "markdown",
   "id": "f1748af4",
   "metadata": {},
   "source": [
    "# 3. Finally, we want to get the job description text for each job.\n",
    "### a. Start by looking at the page for the first job, https://realpython.github.io/fake-jobs/jobs/senior-python-developer-0.html. Using BeautifulSoup, extract the job description paragraph."
   ]
  },
  {
   "cell_type": "code",
   "execution_count": null,
   "id": "d588c1f1",
   "metadata": {},
   "outputs": [],
   "source": [
    "URL = 'https://realpython.github.io/fake-jobs/jobs/senior-python-developer-0.html'\n",
    "response = requests.get(URL)\n",
    "response"
   ]
  },
  {
   "cell_type": "code",
   "execution_count": null,
   "id": "8ff12438",
   "metadata": {
    "scrolled": true
   },
   "outputs": [],
   "source": [
    "soup = BS(response.text)\n",
    "soup"
   ]
  },
  {
   "cell_type": "code",
   "execution_count": null,
   "id": "31cc1479",
   "metadata": {},
   "outputs": [],
   "source": [
    "strings = soup.findAll('p')\n",
    "strings"
   ]
  },
  {
   "cell_type": "code",
   "execution_count": null,
   "id": "cc0da039",
   "metadata": {},
   "outputs": [],
   "source": [
    "strings[1].text"
   ]
  },
  {
   "cell_type": "markdown",
   "id": "f68e3b1e",
   "metadata": {},
   "source": [
    "### b. We want to be able to do this for all pages. Write a function which takes as input a url and returns the description text on that page. For example, if you input \"https://realpython.github.io/fake-jobs/jobs/television-floor-manager-8.html\" into your function, it should return the string \"At be than always different American address. Former claim chance prevent why measure too. Almost before some military outside baby interview. Face top individual win suddenly. Parent do ten after those scientist. Medical effort assume teacher wall. Significant his himself clearly very. Expert stop area along individual. Three own bank recognize special good along.\"."
   ]
  },
  {
   "cell_type": "code",
   "execution_count": null,
   "id": "63be9c6f",
   "metadata": {},
   "outputs": [],
   "source": [
    "def get_descr(URL):\n",
    "    response = requests.get(URL)\n",
    "    soup = BS(response.text)\n",
    "    \n",
    "    descr = soup.findAll('p')[1].text\n",
    "    return descr"
   ]
  },
  {
   "cell_type": "code",
   "execution_count": null,
   "id": "dc7dfc7d",
   "metadata": {},
   "outputs": [],
   "source": [
    "get_descr('https://realpython.github.io/fake-jobs/jobs/television-floor-manager-8.html')"
   ]
  },
  {
   "cell_type": "markdown",
   "id": "c089ca7f",
   "metadata": {},
   "source": [
    "### c. Use the .apply method on the url column you created above to retrieve the description text for all of the jobs."
   ]
  },
  {
   "cell_type": "code",
   "execution_count": null,
   "id": "76d66d89",
   "metadata": {},
   "outputs": [],
   "source": [
    "descriptions = jobs_df['Apply_Link'].apply(get_descr)"
   ]
  },
  {
   "cell_type": "code",
   "execution_count": null,
   "id": "654f530d",
   "metadata": {},
   "outputs": [],
   "source": [
    "jobs_df['Description'] = descriptions\n",
    "jobs_df"
   ]
  },
  {
   "cell_type": "code",
   "execution_count": null,
   "id": "6c29734f",
   "metadata": {},
   "outputs": [],
   "source": []
  }
 ],
 "metadata": {
  "kernelspec": {
   "display_name": "Python 3 (ipykernel)",
   "language": "python",
   "name": "python3"
  },
  "language_info": {
   "codemirror_mode": {
    "name": "ipython",
    "version": 3
   },
   "file_extension": ".py",
   "mimetype": "text/x-python",
   "name": "python",
   "nbconvert_exporter": "python",
   "pygments_lexer": "ipython3",
   "version": "3.11.4"
  }
 },
 "nbformat": 4,
 "nbformat_minor": 5
}
